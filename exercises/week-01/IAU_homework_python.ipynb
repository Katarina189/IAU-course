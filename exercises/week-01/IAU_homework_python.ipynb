{
 "cells": [
  {
   "cell_type": "markdown",
   "metadata": {
    "colab_type": "text",
    "id": "PE4ExuwJjYZl"
   },
   "source": [
    "# Introduction to Python: DÚ"
   ]
  },
  {
   "cell_type": "code",
   "execution_count": 1,
   "metadata": {
    "colab": {},
    "colab_type": "code",
    "id": "m7dnZNjx26I_"
   },
   "outputs": [],
   "source": [
    "# -*- coding: utf-8 -*-\n",
    "#\n",
    "# Licensed under the Apache License, Version 2.0 (the \"License\");\n",
    "# you may not use this file except in compliance with the License.\n",
    "# You may obtain a copy of the License at\n",
    "#\n",
    "# http://www.apache.org/licenses/LICENSE-2.0\n",
    "#\n",
    "# Unless required by applicable law or agreed to in writing, software\n",
    "# distributed under the License is distributed on an \"AS IS\" BASIS,\n",
    "# WITHOUT WARRANTIES OR CONDITIONS OF ANY KIND, either express or\n",
    "# implied.\n",
    "# See the License for the specific language governing permissions and\n",
    "# limitations under the License.\n",
    "#"
   ]
  },
  {
   "cell_type": "markdown",
   "metadata": {
    "colab_type": "text",
    "id": "wtQeTdrV4kO_"
   },
   "source": [
    "Official python tutorial: [https://docs.python.org/3.8/tutorial/index.html](https://docs.python.org/3.8/tutorial/index.html) \n",
    "\n",
    "URL [https://github.com/jerry-git/learn-python3](https://github.com/jerry-git/learn-python3)"
   ]
  },
  {
   "cell_type": "markdown",
   "metadata": {
    "colab_type": "text",
    "id": "NNi-uBwHfdk0"
   },
   "source": [
    "## Task 1"
   ]
  },
  {
   "cell_type": "markdown",
   "metadata": {
    "colab_type": "text",
    "id": "X3eHvejdfgWj"
   },
   "source": [
    "You are given an array of strings:"
   ]
  },
  {
   "cell_type": "code",
   "execution_count": 2,
   "metadata": {
    "colab": {},
    "colab_type": "code",
    "id": "1qj5175CfnTd"
   },
   "outputs": [],
   "source": [
    "array_to_split = [\"Fiit\", \"fiit\", \"megadlhystring!!!\", \"autobiografia\", \"Alica\", \"python\", \"pip\", \"env\", \"jupyter\", \"IAU\"]"
   ]
  },
  {
   "cell_type": "markdown",
   "metadata": {
    "colab_type": "text",
    "id": "RaGmXpqghnQW"
   },
   "source": [
    "Write a function that, for the given array of strings, returns a new array containing only strings at prime indices. Then call this function with the field declared above as a parameter."
   ]
  },
  {
   "cell_type": "code",
   "execution_count": 59,
   "metadata": {
    "colab": {},
    "colab_type": "code",
    "id": "W8ed3W40h529"
   },
   "outputs": [
    {
     "data": {
      "text/plain": [
       "['Fiit', 'megadlhystring!!!', 'Alica', 'pip', 'jupyter']"
      ]
     },
     "execution_count": 59,
     "metadata": {},
     "output_type": "execute_result"
    }
   ],
   "source": [
    "# Place for your code\n",
    "\n",
    "def new_array(array):\n",
    "    i=''\n",
    "    x=0\n",
    "    nova_array=[]\n",
    "    for i in array_to_split:\n",
    "        if x % 2==0:\n",
    "            nova_array.append(i)\n",
    "        x+=1\n",
    "    return nova_array\n",
    "\n",
    "new_array(array_to_split)\n",
    "\n",
    "\n",
    "\n",
    "\n",
    "\n",
    "\n"
   ]
  },
  {
   "cell_type": "markdown",
   "metadata": {
    "colab_type": "text",
    "id": "OsdZWqFsfvgk"
   },
   "source": [
    "Write a program that divides the above declared array into 3 new arrays, where in one array there will be strings of length less than 5. In the second array, strings of length between 5 and 10 (inclusive) and strings starting with the letter \"a\" or any uppercase letter while string of **any** length. In the third field, all other thongs."
   ]
  },
  {
   "cell_type": "code",
   "execution_count": 70,
   "metadata": {
    "colab": {},
    "colab_type": "code",
    "id": "19OHF7shiDI9"
   },
   "outputs": [
    {
     "name": "stdout",
     "output_type": "stream",
     "text": [
      "['Fiit', 'pip']\n",
      "['Alica']\n",
      "['megadlhystring!!!', 'jupyter']\n"
     ]
    }
   ],
   "source": [
    "prva_array=[]\n",
    "druha_array=[]\n",
    "tretia_array=[]\n",
    "for i in new_array(array_to_split):\n",
    "    if len(i)<5:\n",
    "        prva_array.append(i)\n",
    "    elif (len(i)>=5 and len(i)<=10 and (i[0])==\"a\") or any(char.isupper() for char in i):\n",
    "        druha_array.append(i)\n",
    "    else:\n",
    "        tretia_array.append(i)\n",
    "print(prva_array)\n",
    "print(druha_array)\n",
    "print(tretia_array)\n",
    "\n"
   ]
  },
  {
   "cell_type": "markdown",
   "metadata": {
    "colab_type": "text",
    "id": "-sZ6ISJMp1bR"
   },
   "source": [
    "## Task 2"
   ]
  },
  {
   "cell_type": "markdown",
   "metadata": {
    "colab_type": "text",
    "id": "MzlqAVbwp4qL"
   },
   "source": [
    "We have entered an array of numbers of type Interger (int)."
   ]
  },
  {
   "cell_type": "code",
   "execution_count": null,
   "metadata": {
    "colab": {},
    "colab_type": "code",
    "id": "9dEavPgJp7b1"
   },
   "outputs": [],
   "source": [
    "array1 = [1, 4, 5, 1, 7, 5, 1, 5, 4, 2, 3, 4]\n",
    "#array = [1,2,3,4,5,5,6,6,4,4,5,5,12,12,1,1,1,1,1,2,1]\n",
    "#array = [1,1,2,20]"
   ]
  },
  {
   "cell_type": "markdown",
   "metadata": {
    "colab_type": "text",
    "id": "Ie99LXSfqacF"
   },
   "source": [
    "Write a function that tells us, for an array of ints, whether the array can be split into two arrays with the same sum. Then call this function on the field declared above. List two such fields (any that satisfy the condition of equal sum)."
   ]
  },
  {
   "cell_type": "code",
   "execution_count": 102,
   "metadata": {},
   "outputs": [
    {
     "data": {
      "text/plain": [
       "False"
      ]
     },
     "execution_count": 102,
     "metadata": {},
     "output_type": "execute_result"
    }
   ],
   "source": [
    "# Place for your code\n",
    "array1 = [1,1,2,20]\n",
    "def rovnaky_sum(array):\n",
    "    \n",
    "    sucet=(sum(array))/2\n",
    "    if sum(array) % 2 !=0:\n",
    "        return False \n",
    "\n",
    "    def rozhodnutie(array,n,_sucet):\n",
    "        if _sucet==0:\n",
    "            return True\n",
    "        if n==0 or _sucet<0:\n",
    "            return False\n",
    "    \n",
    "        return rozhodnutie(array,n-1,_sucet) or rozhodnutie(array,n-1,_sucet-array[n-1])\n",
    "\n",
    "    return rozhodnutie(array,len(array),sucet//2)\n",
    "rovnaky_sum(array1)\n",
    "\n",
    "            \n",
    "        \n",
    "\n"
   ]
  }
 ],
 "metadata": {
  "colab": {
   "collapsed_sections": [],
   "name": "IAU_uvod_do_pythonu.ipynb",
   "provenance": []
  },
  "kernelspec": {
   "display_name": "Python 3",
   "language": "python",
   "name": "python3"
  },
  "language_info": {
   "codemirror_mode": {
    "name": "ipython",
    "version": 3
   },
   "file_extension": ".py",
   "mimetype": "text/x-python",
   "name": "python",
   "nbconvert_exporter": "python",
   "pygments_lexer": "ipython3",
   "version": "3.12.4"
  }
 },
 "nbformat": 4,
 "nbformat_minor": 1
}
